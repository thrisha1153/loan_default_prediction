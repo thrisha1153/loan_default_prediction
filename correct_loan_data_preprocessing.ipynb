{
 "cells": [
  {
   "cell_type": "code",
   "execution_count": 4,
   "metadata": {},
   "outputs": [],
   "source": [
    "import pandas as pd\n",
    "import matplotlib.pyplot as plt\n",
    "import seaborn as sns\n",
    "import plotly.express as px"
   ]
  },
  {
   "cell_type": "code",
   "execution_count": 3,
   "metadata": {},
   "outputs": [
    {
     "ename": "NameError",
     "evalue": "name 'pd' is not defined",
     "output_type": "error",
     "traceback": [
      "\u001b[1;31m---------------------------------------------------------------------------\u001b[0m",
      "\u001b[1;31mNameError\u001b[0m                                 Traceback (most recent call last)",
      "Cell \u001b[1;32mIn[3], line 1\u001b[0m\n\u001b[1;32m----> 1\u001b[0m df\u001b[38;5;241m=\u001b[39m\u001b[43mpd\u001b[49m\u001b[38;5;241m.\u001b[39mread_csv(\u001b[38;5;124m\"\u001b[39m\u001b[38;5;124mC:\u001b[39m\u001b[38;5;130;01m\\\\\u001b[39;00m\u001b[38;5;124mUsers\u001b[39m\u001b[38;5;130;01m\\\\\u001b[39;00m\u001b[38;5;124mthris\u001b[39m\u001b[38;5;130;01m\\\\\u001b[39;00m\u001b[38;5;124mDesktop\u001b[39m\u001b[38;5;130;01m\\\\\u001b[39;00m\u001b[38;5;124mcleaned_loan_data.csv\u001b[39m\u001b[38;5;124m\"\u001b[39m)\n\u001b[0;32m      2\u001b[0m df\u001b[38;5;241m.\u001b[39mhead(\u001b[38;5;241m2\u001b[39m)\n",
      "\u001b[1;31mNameError\u001b[0m: name 'pd' is not defined"
     ]
    }
   ],
   "source": [
    "df=pd.read_csv(\"C:\\\\Users\\\\thris\\\\Desktop\\\\cleaned_loan_data.csv\")\n",
    "df.head(2)"
   ]
  },
  {
   "cell_type": "code",
   "execution_count": 52,
   "metadata": {},
   "outputs": [
    {
     "data": {
      "text/plain": [
       "Index(['ID', 'year', 'loan_limit', 'Gender', 'approv_in_adv', 'loan_type',\n",
       "       'loan_purpose', 'Credit_Worthiness', 'open_credit',\n",
       "       'business_or_commercial', 'loan_amount', 'rate_of_interest',\n",
       "       'Interest_rate_spread', 'Upfront_charges', 'term', 'Neg_ammortization',\n",
       "       'interest_only', 'lump_sum_payment', 'property_value',\n",
       "       'construction_type', 'occupancy_type', 'Secured_by', 'total_units',\n",
       "       'income', 'credit_type', 'Credit_Score', 'co-applicant_credit_type',\n",
       "       'age', 'submission_of_application', 'LTV', 'Region', 'Security_Type',\n",
       "       'Status', 'dtir1'],\n",
       "      dtype='object')"
      ]
     },
     "execution_count": 52,
     "metadata": {},
     "output_type": "execute_result"
    }
   ],
   "source": [
    "df.columns"
   ]
  },
  {
   "cell_type": "code",
   "execution_count": 53,
   "metadata": {},
   "outputs": [
    {
     "data": {
      "text/plain": [
       "(148670, 34)"
      ]
     },
     "execution_count": 53,
     "metadata": {},
     "output_type": "execute_result"
    }
   ],
   "source": [
    "df.shape"
   ]
  },
  {
   "cell_type": "code",
   "execution_count": 54,
   "metadata": {},
   "outputs": [
    {
     "name": "stdout",
     "output_type": "stream",
     "text": [
      "<class 'pandas.core.frame.DataFrame'>\n",
      "RangeIndex: 148670 entries, 0 to 148669\n",
      "Data columns (total 34 columns):\n",
      " #   Column                     Non-Null Count   Dtype  \n",
      "---  ------                     --------------   -----  \n",
      " 0   ID                         148670 non-null  int64  \n",
      " 1   year                       148670 non-null  int64  \n",
      " 2   loan_limit                 145326 non-null  object \n",
      " 3   Gender                     148670 non-null  object \n",
      " 4   approv_in_adv              147762 non-null  object \n",
      " 5   loan_type                  148670 non-null  object \n",
      " 6   loan_purpose               148536 non-null  object \n",
      " 7   Credit_Worthiness          148670 non-null  object \n",
      " 8   open_credit                148670 non-null  object \n",
      " 9   business_or_commercial     148670 non-null  object \n",
      " 10  loan_amount                148670 non-null  int64  \n",
      " 11  rate_of_interest           112231 non-null  float64\n",
      " 12  Interest_rate_spread       112031 non-null  float64\n",
      " 13  Upfront_charges            109028 non-null  float64\n",
      " 14  term                       148629 non-null  float64\n",
      " 15  Neg_ammortization          148549 non-null  object \n",
      " 16  interest_only              148670 non-null  object \n",
      " 17  lump_sum_payment           148670 non-null  object \n",
      " 18  property_value             133572 non-null  float64\n",
      " 19  construction_type          148670 non-null  object \n",
      " 20  occupancy_type             148670 non-null  object \n",
      " 21  Secured_by                 148670 non-null  object \n",
      " 22  total_units                148670 non-null  object \n",
      " 23  income                     139520 non-null  float64\n",
      " 24  credit_type                148670 non-null  object \n",
      " 25  Credit_Score               148670 non-null  int64  \n",
      " 26  co-applicant_credit_type   148670 non-null  object \n",
      " 27  age                        148470 non-null  object \n",
      " 28  submission_of_application  148470 non-null  object \n",
      " 29  LTV                        133572 non-null  float64\n",
      " 30  Region                     148670 non-null  object \n",
      " 31  Security_Type              148670 non-null  object \n",
      " 32  Status                     148670 non-null  int64  \n",
      " 33  dtir1                      124549 non-null  float64\n",
      "dtypes: float64(8), int64(5), object(21)\n",
      "memory usage: 38.6+ MB\n"
     ]
    }
   ],
   "source": [
    "df.info()"
   ]
  },
  {
   "cell_type": "code",
   "execution_count": 55,
   "metadata": {},
   "outputs": [
    {
     "data": {
      "text/plain": [
       "ID                               0\n",
       "year                             0\n",
       "loan_limit                    3344\n",
       "Gender                           0\n",
       "approv_in_adv                  908\n",
       "loan_type                        0\n",
       "loan_purpose                   134\n",
       "Credit_Worthiness                0\n",
       "open_credit                      0\n",
       "business_or_commercial           0\n",
       "loan_amount                      0\n",
       "rate_of_interest             36439\n",
       "Interest_rate_spread         36639\n",
       "Upfront_charges              39642\n",
       "term                            41\n",
       "Neg_ammortization              121\n",
       "interest_only                    0\n",
       "lump_sum_payment                 0\n",
       "property_value               15098\n",
       "construction_type                0\n",
       "occupancy_type                   0\n",
       "Secured_by                       0\n",
       "total_units                      0\n",
       "income                        9150\n",
       "credit_type                      0\n",
       "Credit_Score                     0\n",
       "co-applicant_credit_type         0\n",
       "age                            200\n",
       "submission_of_application      200\n",
       "LTV                          15098\n",
       "Region                           0\n",
       "Security_Type                    0\n",
       "Status                           0\n",
       "dtir1                        24121\n",
       "dtype: int64"
      ]
     },
     "execution_count": 55,
     "metadata": {},
     "output_type": "execute_result"
    }
   ],
   "source": [
    "df.isnull().sum()"
   ]
  },
  {
   "cell_type": "code",
   "execution_count": 56,
   "metadata": {},
   "outputs": [
    {
     "data": {
      "text/plain": [
       "0"
      ]
     },
     "execution_count": 56,
     "metadata": {},
     "output_type": "execute_result"
    }
   ],
   "source": [
    "df.duplicated().sum()"
   ]
  },
  {
   "cell_type": "markdown",
   "metadata": {},
   "source": [
    "FILL CATEGORICAL DATA"
   ]
  },
  {
   "cell_type": "code",
   "execution_count": 57,
   "metadata": {},
   "outputs": [
    {
     "name": "stdout",
     "output_type": "stream",
     "text": [
      "loan_limit: 3344\n",
      "Gender: 0\n",
      "approv_in_adv: 908\n",
      "loan_type: 0\n",
      "loan_purpose: 134\n",
      "Credit_Worthiness: 0\n",
      "open_credit: 0\n",
      "business_or_commercial: 0\n",
      "Neg_ammortization: 121\n",
      "interest_only: 0\n",
      "lump_sum_payment: 0\n",
      "construction_type: 0\n",
      "occupancy_type: 0\n",
      "Secured_by: 0\n",
      "total_units: 0\n",
      "credit_type: 0\n",
      "co-applicant_credit_type: 0\n",
      "age: 200\n",
      "submission_of_application: 200\n",
      "Region: 0\n",
      "Security_Type: 0\n"
     ]
    }
   ],
   "source": [
    "categorical_cols = ['loan_limit', 'Gender', 'approv_in_adv', 'loan_type', 'loan_purpose',\n",
    "                    'Credit_Worthiness', 'open_credit', 'business_or_commercial',\n",
    "                    'Neg_ammortization', 'interest_only', 'lump_sum_payment',\n",
    "                    'construction_type', 'occupancy_type', 'Secured_by', 'total_units',\n",
    "                    'credit_type', 'co-applicant_credit_type', 'age',\n",
    "                    'submission_of_application', 'Region', 'Security_Type']\n",
    "\n",
    "\n",
    "for col in categorical_cols:\n",
    "    print(f\"{col}: {df[col].isna().sum()}\")"
   ]
  },
  {
   "cell_type": "code",
   "execution_count": 58,
   "metadata": {},
   "outputs": [],
   "source": [
    "df['loan_limit'] = df['loan_limit'].fillna(df['loan_limit'].mode()[0])\n",
    "df['approv_in_adv'] = df['approv_in_adv'].fillna(df['approv_in_adv'].mode()[0])\n",
    "df['loan_purpose'] = df['loan_purpose'].fillna(df['loan_purpose'].mode()[0])\n",
    "df['Neg_ammortization'] = df['Neg_ammortization'].fillna(df['Neg_ammortization'].mode()[0])\n",
    "df['submission_of_application'] = df['submission_of_application'].fillna(df['submission_of_application'].mode()[0])\n",
    "df['age'] = df['age'].fillna(df['age'].mode()[0])"
   ]
  },
  {
   "cell_type": "code",
   "execution_count": 59,
   "metadata": {},
   "outputs": [
    {
     "data": {
      "text/plain": [
       "Gender\n",
       "Male                 42346\n",
       "Joint                41399\n",
       "Sex Not Available    37659\n",
       "Female               27266\n",
       "Name: count, dtype: int64"
      ]
     },
     "execution_count": 59,
     "metadata": {},
     "output_type": "execute_result"
    }
   ],
   "source": [
    "df[\"Gender\"].value_counts()"
   ]
  },
  {
   "cell_type": "code",
   "execution_count": 62,
   "metadata": {},
   "outputs": [],
   "source": [
    "df[\"Gender\"]=df[\"Gender\"].replace(\"Sex Not Available\",df[\"Gender\"].mode()[0])"
   ]
  },
  {
   "cell_type": "markdown",
   "metadata": {},
   "source": [
    "USE LABEL ENCODER"
   ]
  },
  {
   "cell_type": "code",
   "execution_count": 64,
   "metadata": {},
   "outputs": [],
   "source": [
    "from sklearn.preprocessing import LabelEncoder\n",
    "\n",
    "le=LabelEncoder()\n",
    "\n",
    "for col in categorical_cols:\n",
    "    df[col]=le.fit_transform(df[col])"
   ]
  },
  {
   "cell_type": "markdown",
   "metadata": {},
   "source": [
    "FILLING MISSING VALUES"
   ]
  },
  {
   "cell_type": "markdown",
   "metadata": {},
   "source": [
    "Rate of interest and Interest_rate_spread"
   ]
  },
  {
   "cell_type": "code",
   "execution_count": 66,
   "metadata": {},
   "outputs": [
    {
     "data": {
      "text/plain": [
       "rate_of_interest             1.000000\n",
       "Interest_rate_spread         0.614908\n",
       "term                         0.209330\n",
       "open_credit                  0.191423\n",
       "Credit_Worthiness            0.153968\n",
       "submission_of_application    0.141390\n",
       "total_units                  0.082623\n",
       "approv_in_adv                0.057598\n",
       "dtir1                        0.055124\n",
       "business_or_commercial       0.051474\n",
       "age                          0.032743\n",
       "loan_limit                   0.029347\n",
       "Status                       0.022957\n",
       "lump_sum_payment             0.015249\n",
       "interest_only                0.009160\n",
       "ID                           0.000442\n",
       "LTV                         -0.000220\n",
       "Credit_Score                -0.001331\n",
       "Region                      -0.012937\n",
       "credit_type                 -0.025887\n",
       "Gender                      -0.026391\n",
       "income                      -0.041809\n",
       "co-applicant_credit_type    -0.043587\n",
       "Upfront_charges             -0.076473\n",
       "property_value              -0.122613\n",
       "loan_amount                 -0.150844\n",
       "Neg_ammortization           -0.176349\n",
       "occupancy_type              -0.188787\n",
       "loan_purpose                -0.250109\n",
       "loan_type                   -0.267358\n",
       "year                              NaN\n",
       "construction_type                 NaN\n",
       "Secured_by                        NaN\n",
       "Security_Type                     NaN\n",
       "Name: rate_of_interest, dtype: float64"
      ]
     },
     "execution_count": 66,
     "metadata": {},
     "output_type": "execute_result"
    }
   ],
   "source": [
    "df.corr()[\"rate_of_interest\"].sort_values(ascending=False)"
   ]
  },
  {
   "cell_type": "code",
   "execution_count": 68,
   "metadata": {},
   "outputs": [],
   "source": [
    "from sklearn.linear_model import LinearRegression\n",
    "from sklearn.impute import SimpleImputer\n",
    "import numpy as np\n",
    "\n",
    "# Impute temporary missing values for training\n",
    "imputer = SimpleImputer(strategy='mean')\n",
    "\n",
    "# Prepare data for 'rate_of_interest'\n",
    "roi_not_missing = df[df['rate_of_interest'].notna()]\n",
    "roi_missing = df[df['rate_of_interest'].isna()]\n",
    "irs_temp_imputed = imputer.fit_transform(roi_not_missing[['Interest_rate_spread']])\n",
    "\n",
    "# Train model to predict 'rate_of_interest' using 'Interest_rate_spread'\n",
    "model_irs_to_roi = LinearRegression()\n",
    "model_irs_to_roi.fit(irs_temp_imputed, roi_not_missing['rate_of_interest'])\n",
    "\n",
    "# Predict missing 'rate_of_interest'\n",
    "df.loc[df['rate_of_interest'].isna(), 'rate_of_interest'] = model_irs_to_roi.predict(\n",
    "    imputer.transform(roi_missing[['Interest_rate_spread']])\n",
    ")\n",
    "\n",
    "# Prepare data for 'Interest_rate_spread'\n",
    "irs_not_missing = df[df['Interest_rate_spread'].notna()]\n",
    "irs_missing = df[df['Interest_rate_spread'].isna()]\n",
    "roi_temp_imputed = imputer.fit_transform(irs_not_missing[['rate_of_interest']])\n",
    "\n",
    "# Train model to predict 'Interest_rate_spread' using 'rate_of_interest'\n",
    "model_roi_to_irs = LinearRegression()\n",
    "model_roi_to_irs.fit(roi_temp_imputed, irs_not_missing['Interest_rate_spread'])\n",
    "\n",
    "# Predict missing 'Interest_rate_spread'\n",
    "df.loc[df['Interest_rate_spread'].isna(), 'Interest_rate_spread'] = model_roi_to_irs.predict(\n",
    "    imputer.transform(irs_missing[['rate_of_interest']])\n",
    ")\n"
   ]
  },
  {
   "cell_type": "markdown",
   "metadata": {},
   "source": [
    "upfront charges"
   ]
  },
  {
   "cell_type": "code",
   "execution_count": 70,
   "metadata": {},
   "outputs": [
    {
     "data": {
      "text/plain": [
       "Upfront_charges              1.000000\n",
       "submission_of_application    0.334916\n",
       "business_or_commercial       0.151732\n",
       "age                          0.101647\n",
       "Gender                       0.068344\n",
       "loan_amount                  0.065556\n",
       "Region                       0.062290\n",
       "property_value               0.053043\n",
       "total_units                  0.050819\n",
       "loan_limit                   0.043156\n",
       "Interest_rate_spread         0.032761\n",
       "Neg_ammortization            0.023771\n",
       "approv_in_adv                0.018524\n",
       "income                       0.016580\n",
       "lump_sum_payment             0.009544\n",
       "loan_purpose                 0.009300\n",
       "co-applicant_credit_type     0.004481\n",
       "interest_only                0.000746\n",
       "dtir1                        0.000115\n",
       "Credit_Score                -0.001484\n",
       "ID                          -0.005507\n",
       "Credit_Worthiness           -0.006602\n",
       "credit_type                 -0.014505\n",
       "Status                      -0.019138\n",
       "LTV                         -0.031347\n",
       "occupancy_type              -0.046536\n",
       "term                        -0.054960\n",
       "rate_of_interest            -0.076473\n",
       "loan_type                   -0.125469\n",
       "year                              NaN\n",
       "open_credit                       NaN\n",
       "construction_type                 NaN\n",
       "Secured_by                        NaN\n",
       "Security_Type                     NaN\n",
       "Name: Upfront_charges, dtype: float64"
      ]
     },
     "execution_count": 70,
     "metadata": {},
     "output_type": "execute_result"
    }
   ],
   "source": [
    "df.corr()[\"Upfront_charges\"].sort_values(ascending=False)"
   ]
  },
  {
   "cell_type": "code",
   "execution_count": 71,
   "metadata": {},
   "outputs": [],
   "source": [
    "df=df.drop(\"Upfront_charges\",axis=1)"
   ]
  },
  {
   "cell_type": "markdown",
   "metadata": {},
   "source": [
    "term"
   ]
  },
  {
   "cell_type": "code",
   "execution_count": 72,
   "metadata": {},
   "outputs": [],
   "source": [
    "df[\"term\"]=df[\"term\"].fillna(360)"
   ]
  },
  {
   "cell_type": "markdown",
   "metadata": {},
   "source": [
    "Neg_ammortization"
   ]
  },
  {
   "cell_type": "code",
   "execution_count": 73,
   "metadata": {},
   "outputs": [
    {
     "data": {
      "text/plain": [
       "Neg_ammortization            1.000000\n",
       "approv_in_adv                0.077195\n",
       "loan_purpose                 0.067128\n",
       "loan_amount                  0.027458\n",
       "property_value               0.027078\n",
       "term                         0.021358\n",
       "interest_only                0.018190\n",
       "occupancy_type               0.015302\n",
       "business_or_commercial       0.014391\n",
       "Security_Type                0.006932\n",
       "construction_type            0.006932\n",
       "loan_type                    0.005984\n",
       "income                       0.003777\n",
       "ID                           0.001185\n",
       "Region                      -0.000537\n",
       "Credit_Score                -0.000958\n",
       "open_credit                 -0.001976\n",
       "loan_limit                  -0.006279\n",
       "Gender                      -0.006317\n",
       "Secured_by                  -0.006932\n",
       "credit_type                 -0.007728\n",
       "LTV                         -0.008876\n",
       "co-applicant_credit_type    -0.010603\n",
       "age                         -0.012946\n",
       "total_units                 -0.013450\n",
       "dtir1                       -0.019885\n",
       "Interest_rate_spread        -0.023515\n",
       "lump_sum_payment            -0.051369\n",
       "submission_of_application   -0.052816\n",
       "Credit_Worthiness           -0.058667\n",
       "rate_of_interest            -0.134164\n",
       "Status                      -0.155835\n",
       "year                              NaN\n",
       "Name: Neg_ammortization, dtype: float64"
      ]
     },
     "execution_count": 73,
     "metadata": {},
     "output_type": "execute_result"
    }
   ],
   "source": [
    "df.corr()[\"Neg_ammortization\"].sort_values(ascending=False)"
   ]
  },
  {
   "cell_type": "code",
   "execution_count": 75,
   "metadata": {},
   "outputs": [],
   "source": [
    "df[\"Neg_ammortization\"]=df[\"Neg_ammortization\"].fillna(df[\"Neg_ammortization\"].mode()[0])"
   ]
  },
  {
   "cell_type": "markdown",
   "metadata": {},
   "source": [
    "LTV"
   ]
  },
  {
   "cell_type": "code",
   "execution_count": 77,
   "metadata": {},
   "outputs": [],
   "source": [
    "df[\"LTV\"]=df[\"LTV\"].fillna(df[\"LTV\"].mean())"
   ]
  },
  {
   "cell_type": "markdown",
   "metadata": {},
   "source": [
    "DTIR1"
   ]
  },
  {
   "cell_type": "code",
   "execution_count": 78,
   "metadata": {},
   "outputs": [],
   "source": [
    "df[\"dtir1\"]=df[\"dtir1\"].fillna(df[\"dtir1\"].mean())"
   ]
  },
  {
   "cell_type": "markdown",
   "metadata": {},
   "source": [
    "income"
   ]
  },
  {
   "cell_type": "code",
   "execution_count": 80,
   "metadata": {},
   "outputs": [],
   "source": [
    "df[\"income\"]=df[\"income\"].fillna(df[\"income\"].mean())"
   ]
  },
  {
   "cell_type": "markdown",
   "metadata": {},
   "source": [
    "property_value"
   ]
  },
  {
   "cell_type": "code",
   "execution_count": 82,
   "metadata": {},
   "outputs": [],
   "source": [
    "df[\"property_value\"]=df[\"property_value\"].fillna(df[\"property_value\"].mean())"
   ]
  },
  {
   "cell_type": "code",
   "execution_count": 83,
   "metadata": {},
   "outputs": [
    {
     "data": {
      "text/plain": [
       "ID                           0\n",
       "property_value               0\n",
       "Status                       0\n",
       "Security_Type                0\n",
       "Region                       0\n",
       "LTV                          0\n",
       "submission_of_application    0\n",
       "age                          0\n",
       "co-applicant_credit_type     0\n",
       "Credit_Score                 0\n",
       "credit_type                  0\n",
       "income                       0\n",
       "total_units                  0\n",
       "Secured_by                   0\n",
       "occupancy_type               0\n",
       "construction_type            0\n",
       "lump_sum_payment             0\n",
       "year                         0\n",
       "interest_only                0\n",
       "Neg_ammortization            0\n",
       "term                         0\n",
       "Interest_rate_spread         0\n",
       "rate_of_interest             0\n",
       "loan_amount                  0\n",
       "business_or_commercial       0\n",
       "open_credit                  0\n",
       "Credit_Worthiness            0\n",
       "loan_purpose                 0\n",
       "loan_type                    0\n",
       "approv_in_adv                0\n",
       "Gender                       0\n",
       "loan_limit                   0\n",
       "dtir1                        0\n",
       "dtype: int64"
      ]
     },
     "execution_count": 83,
     "metadata": {},
     "output_type": "execute_result"
    }
   ],
   "source": [
    "df.isna().sum().sort_values(ascending=False)"
   ]
  },
  {
   "cell_type": "code",
   "execution_count": 85,
   "metadata": {},
   "outputs": [],
   "source": [
    "df.to_csv(\"C:\\\\Users\\\\thris\\\\Desktop\\\\cleaned_loan_data.csv\", index=False)"
   ]
  },
  {
   "cell_type": "code",
   "execution_count": null,
   "metadata": {},
   "outputs": [],
   "source": []
  }
 ],
 "metadata": {
  "kernelspec": {
   "display_name": "Python 3",
   "language": "python",
   "name": "python3"
  },
  "language_info": {
   "codemirror_mode": {
    "name": "ipython",
    "version": 3
   },
   "file_extension": ".py",
   "mimetype": "text/x-python",
   "name": "python",
   "nbconvert_exporter": "python",
   "pygments_lexer": "ipython3",
   "version": "3.10.11"
  }
 },
 "nbformat": 4,
 "nbformat_minor": 2
}
